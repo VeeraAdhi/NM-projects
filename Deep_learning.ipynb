{
  "nbformat": 4,
  "nbformat_minor": 0,
  "metadata": {
    "colab": {
      "provenance": [],
      "authorship_tag": "ABX9TyMzwiyZlgaWfEFWJ0G9IC32",
      "include_colab_link": true
    },
    "kernelspec": {
      "name": "python3",
      "display_name": "Python 3"
    },
    "language_info": {
      "name": "python"
    }
  },
  "cells": [
    {
      "cell_type": "markdown",
      "metadata": {
        "id": "view-in-github",
        "colab_type": "text"
      },
      "source": [
        "<a href=\"https://colab.research.google.com/github/VeeraAdhi/NM-projects/blob/main/Deep_learning.ipynb\" target=\"_parent\"><img src=\"https://colab.research.google.com/assets/colab-badge.svg\" alt=\"Open In Colab\"/></a>"
      ]
    },
    {
      "cell_type": "code",
      "source": [
        "!pip install gradio tensorflow\n",
        "\n",
        "import gradio as gr\n",
        "import tensorflow as tf\n",
        "import numpy as np\n",
        "import cv2\n",
        "\n",
        "# Load pre-trained model\n",
        "model = tf.keras.models.load_model('https://github.com/taesung1993/Emotion-Recognition-Keras/raw/master/model/fer2013_mini_XCEPTION.102-0.66.hdf5')\n",
        "\n",
        "# Emotion labels\n",
        "emotion_labels = ['Angry', 'Disgust', 'Fear', 'Happy', 'Sad', 'Surprise', 'Neutral']\n",
        "\n",
        "# Prediction function\n",
        "def predict_emotion(image):\n",
        "    gray = cv2.cvtColor(image, cv2.COLOR_BGR2GRAY)\n",
        "        resized = cv2.resize(gray, (48, 48))\n",
        "            normalized = resized.astype(\"float32\") / 255.0\n",
        "                reshaped = np.expand_dims(normalized, axis=0)[..., np.newaxis]\n",
        "                    predictions = model.predict(reshaped)\n",
        "                        return f\"Predicted Emotion: {emotion_labels[np.argmax(predictions)]}\"\n",
        "\n",
        "                        # Gradio interface\n",
        "                        gr.Interface(\n",
        "                            fn=predict_emotion,\n",
        "                                inputs=gr.Image(type=\"numpy\", label=\"Upload Face Image\"),\n",
        "                                    outputs=\"text\",\n",
        "                                        title=\"FaceMood Detector\",\n",
        "                                            description=\"Detect facial emotion from an image.\"\n",
        "                                            ).launch()"
      ],
      "metadata": {
        "colab": {
          "base_uri": "https://localhost:8080/",
          "height": 106
        },
        "id": "25VqqDyFAuYA",
        "outputId": "361c14b6-5d3f-40f5-df1e-ed69602bf4d5"
      },
      "execution_count": 3,
      "outputs": [
        {
          "output_type": "error",
          "ename": "IndentationError",
          "evalue": "unexpected indent (<ipython-input-3-2171de373c60>, line 17)",
          "traceback": [
            "\u001b[0;36m  File \u001b[0;32m\"<ipython-input-3-2171de373c60>\"\u001b[0;36m, line \u001b[0;32m17\u001b[0m\n\u001b[0;31m    resized = cv2.resize(gray, (48, 48))\u001b[0m\n\u001b[0m    ^\u001b[0m\n\u001b[0;31mIndentationError\u001b[0m\u001b[0;31m:\u001b[0m unexpected indent\n"
          ]
        }
      ]
    }
  ]
}